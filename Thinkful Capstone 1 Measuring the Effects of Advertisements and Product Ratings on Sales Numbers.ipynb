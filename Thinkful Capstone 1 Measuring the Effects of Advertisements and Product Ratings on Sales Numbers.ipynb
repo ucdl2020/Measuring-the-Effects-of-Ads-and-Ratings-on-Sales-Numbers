{
 "cells": [
  {
   "cell_type": "code",
   "execution_count": 42,
   "metadata": {},
   "outputs": [],
   "source": [
    "import pandas as pd\n",
    "import numpy as np\n",
    "import seaborn as sns\n",
    "import matplotlib.pyplot as plt\n",
    "%matplotlib inline\n",
    "import scipy.stats as stats\n",
    "import math"
   ]
  },
  {
   "cell_type": "code",
   "execution_count": 2,
   "metadata": {},
   "outputs": [
    {
     "name": "stdout",
     "output_type": "stream",
     "text": [
      "<class 'pandas.core.frame.DataFrame'>\n",
      "RangeIndex: 1573 entries, 0 to 1572\n",
      "Data columns (total 43 columns):\n",
      " #   Column                        Non-Null Count  Dtype  \n",
      "---  ------                        --------------  -----  \n",
      " 0   title                         1573 non-null   object \n",
      " 1   title_orig                    1573 non-null   object \n",
      " 2   price                         1573 non-null   float64\n",
      " 3   retail_price                  1573 non-null   int64  \n",
      " 4   currency_buyer                1573 non-null   object \n",
      " 5   units_sold                    1573 non-null   int64  \n",
      " 6   uses_ad_boosts                1573 non-null   int64  \n",
      " 7   rating                        1573 non-null   float64\n",
      " 8   rating_count                  1573 non-null   int64  \n",
      " 9   rating_five_count             1528 non-null   float64\n",
      " 10  rating_four_count             1528 non-null   float64\n",
      " 11  rating_three_count            1528 non-null   float64\n",
      " 12  rating_two_count              1528 non-null   float64\n",
      " 13  rating_one_count              1528 non-null   float64\n",
      " 14  badges_count                  1573 non-null   int64  \n",
      " 15  badge_local_product           1573 non-null   int64  \n",
      " 16  badge_product_quality         1573 non-null   int64  \n",
      " 17  badge_fast_shipping           1573 non-null   int64  \n",
      " 18  tags                          1573 non-null   object \n",
      " 19  product_color                 1532 non-null   object \n",
      " 20  product_variation_size_id     1559 non-null   object \n",
      " 21  product_variation_inventory   1573 non-null   int64  \n",
      " 22  shipping_option_name          1573 non-null   object \n",
      " 23  shipping_option_price         1573 non-null   int64  \n",
      " 24  shipping_is_express           1573 non-null   int64  \n",
      " 25  countries_shipped_to          1573 non-null   int64  \n",
      " 26  inventory_total               1573 non-null   int64  \n",
      " 27  has_urgency_banner            473 non-null    float64\n",
      " 28  urgency_text                  473 non-null    object \n",
      " 29  origin_country                1556 non-null   object \n",
      " 30  merchant_title                1573 non-null   object \n",
      " 31  merchant_name                 1569 non-null   object \n",
      " 32  merchant_info_subtitle        1572 non-null   object \n",
      " 33  merchant_rating_count         1573 non-null   int64  \n",
      " 34  merchant_rating               1573 non-null   float64\n",
      " 35  merchant_id                   1573 non-null   object \n",
      " 36  merchant_has_profile_picture  1573 non-null   int64  \n",
      " 37  merchant_profile_picture      226 non-null    object \n",
      " 38  product_url                   1573 non-null   object \n",
      " 39  product_picture               1573 non-null   object \n",
      " 40  product_id                    1573 non-null   object \n",
      " 41  theme                         1573 non-null   object \n",
      " 42  crawl_month                   1573 non-null   object \n",
      "dtypes: float64(9), int64(15), object(19)\n",
      "memory usage: 528.6+ KB\n"
     ]
    }
   ],
   "source": [
    "#I am using the summer products data set found here: https://www.kaggle.com/jmmvutu/summer-products-and-sales-in-ecommerce-wish\n",
    "df = pd.read_csv(r'C:/Users/admin/OneDrive/Documents/Continued Education/Thinkful/Data Science Flex/Capstone 1/summer-products-with-r-p_2020-08.csv')\n",
    "df.info()"
   ]
  },
  {
   "cell_type": "code",
   "execution_count": 3,
   "metadata": {},
   "outputs": [
    {
     "data": {
      "text/html": [
       "<div>\n",
       "<style scoped>\n",
       "    .dataframe tbody tr th:only-of-type {\n",
       "        vertical-align: middle;\n",
       "    }\n",
       "\n",
       "    .dataframe tbody tr th {\n",
       "        vertical-align: top;\n",
       "    }\n",
       "\n",
       "    .dataframe thead th {\n",
       "        text-align: right;\n",
       "    }\n",
       "</style>\n",
       "<table border=\"1\" class=\"dataframe\">\n",
       "  <thead>\n",
       "    <tr style=\"text-align: right;\">\n",
       "      <th></th>\n",
       "      <th>title</th>\n",
       "      <th>title_orig</th>\n",
       "      <th>price</th>\n",
       "      <th>retail_price</th>\n",
       "      <th>currency_buyer</th>\n",
       "      <th>units_sold</th>\n",
       "      <th>uses_ad_boosts</th>\n",
       "      <th>rating</th>\n",
       "      <th>rating_count</th>\n",
       "      <th>rating_five_count</th>\n",
       "      <th>...</th>\n",
       "      <th>merchant_rating_count</th>\n",
       "      <th>merchant_rating</th>\n",
       "      <th>merchant_id</th>\n",
       "      <th>merchant_has_profile_picture</th>\n",
       "      <th>merchant_profile_picture</th>\n",
       "      <th>product_url</th>\n",
       "      <th>product_picture</th>\n",
       "      <th>product_id</th>\n",
       "      <th>theme</th>\n",
       "      <th>crawl_month</th>\n",
       "    </tr>\n",
       "  </thead>\n",
       "  <tbody>\n",
       "    <tr>\n",
       "      <th>0</th>\n",
       "      <td>2020 Summer Vintage Flamingo Print  Pajamas Se...</td>\n",
       "      <td>2020 Summer Vintage Flamingo Print  Pajamas Se...</td>\n",
       "      <td>16.00</td>\n",
       "      <td>14</td>\n",
       "      <td>EUR</td>\n",
       "      <td>100</td>\n",
       "      <td>0</td>\n",
       "      <td>3.76</td>\n",
       "      <td>54</td>\n",
       "      <td>26.0</td>\n",
       "      <td>...</td>\n",
       "      <td>568</td>\n",
       "      <td>4.128521</td>\n",
       "      <td>595097d6a26f6e070cb878d1</td>\n",
       "      <td>0</td>\n",
       "      <td>NaN</td>\n",
       "      <td>https://www.wish.com/c/5e9ae51d43d6a96e303acdb0</td>\n",
       "      <td>https://contestimg.wish.com/api/webimage/5e9ae...</td>\n",
       "      <td>5e9ae51d43d6a96e303acdb0</td>\n",
       "      <td>summer</td>\n",
       "      <td>2020-08</td>\n",
       "    </tr>\n",
       "    <tr>\n",
       "      <th>1</th>\n",
       "      <td>SSHOUSE Summer Casual Sleeveless Soirée Party ...</td>\n",
       "      <td>Women's Casual Summer Sleeveless Sexy Mini Dress</td>\n",
       "      <td>8.00</td>\n",
       "      <td>22</td>\n",
       "      <td>EUR</td>\n",
       "      <td>20000</td>\n",
       "      <td>1</td>\n",
       "      <td>3.45</td>\n",
       "      <td>6135</td>\n",
       "      <td>2269.0</td>\n",
       "      <td>...</td>\n",
       "      <td>17752</td>\n",
       "      <td>3.899673</td>\n",
       "      <td>56458aa03a698c35c9050988</td>\n",
       "      <td>0</td>\n",
       "      <td>NaN</td>\n",
       "      <td>https://www.wish.com/c/58940d436a0d3d5da4e95a38</td>\n",
       "      <td>https://contestimg.wish.com/api/webimage/58940...</td>\n",
       "      <td>58940d436a0d3d5da4e95a38</td>\n",
       "      <td>summer</td>\n",
       "      <td>2020-08</td>\n",
       "    </tr>\n",
       "    <tr>\n",
       "      <th>2</th>\n",
       "      <td>2020 Nouvelle Arrivée Femmes Printemps et Été ...</td>\n",
       "      <td>2020 New Arrival Women Spring and Summer Beach...</td>\n",
       "      <td>8.00</td>\n",
       "      <td>43</td>\n",
       "      <td>EUR</td>\n",
       "      <td>100</td>\n",
       "      <td>0</td>\n",
       "      <td>3.57</td>\n",
       "      <td>14</td>\n",
       "      <td>5.0</td>\n",
       "      <td>...</td>\n",
       "      <td>295</td>\n",
       "      <td>3.989831</td>\n",
       "      <td>5d464a1ffdf7bc44ee933c65</td>\n",
       "      <td>0</td>\n",
       "      <td>NaN</td>\n",
       "      <td>https://www.wish.com/c/5ea10e2c617580260d55310a</td>\n",
       "      <td>https://contestimg.wish.com/api/webimage/5ea10...</td>\n",
       "      <td>5ea10e2c617580260d55310a</td>\n",
       "      <td>summer</td>\n",
       "      <td>2020-08</td>\n",
       "    </tr>\n",
       "    <tr>\n",
       "      <th>3</th>\n",
       "      <td>Hot Summer Cool T-shirt pour les femmes Mode T...</td>\n",
       "      <td>Hot Summer Cool T Shirt for Women Fashion Tops...</td>\n",
       "      <td>8.00</td>\n",
       "      <td>8</td>\n",
       "      <td>EUR</td>\n",
       "      <td>5000</td>\n",
       "      <td>1</td>\n",
       "      <td>4.03</td>\n",
       "      <td>579</td>\n",
       "      <td>295.0</td>\n",
       "      <td>...</td>\n",
       "      <td>23832</td>\n",
       "      <td>4.020435</td>\n",
       "      <td>58cfdefdacb37b556efdff7c</td>\n",
       "      <td>0</td>\n",
       "      <td>NaN</td>\n",
       "      <td>https://www.wish.com/c/5cedf17ad1d44c52c59e4aca</td>\n",
       "      <td>https://contestimg.wish.com/api/webimage/5cedf...</td>\n",
       "      <td>5cedf17ad1d44c52c59e4aca</td>\n",
       "      <td>summer</td>\n",
       "      <td>2020-08</td>\n",
       "    </tr>\n",
       "    <tr>\n",
       "      <th>4</th>\n",
       "      <td>Femmes Shorts d'été à lacets taille élastique ...</td>\n",
       "      <td>Women Summer Shorts Lace Up Elastic Waistband ...</td>\n",
       "      <td>2.72</td>\n",
       "      <td>3</td>\n",
       "      <td>EUR</td>\n",
       "      <td>100</td>\n",
       "      <td>1</td>\n",
       "      <td>3.10</td>\n",
       "      <td>20</td>\n",
       "      <td>6.0</td>\n",
       "      <td>...</td>\n",
       "      <td>14482</td>\n",
       "      <td>4.001588</td>\n",
       "      <td>5ab3b592c3911a095ad5dadb</td>\n",
       "      <td>0</td>\n",
       "      <td>NaN</td>\n",
       "      <td>https://www.wish.com/c/5ebf5819ebac372b070b0e70</td>\n",
       "      <td>https://contestimg.wish.com/api/webimage/5ebf5...</td>\n",
       "      <td>5ebf5819ebac372b070b0e70</td>\n",
       "      <td>summer</td>\n",
       "      <td>2020-08</td>\n",
       "    </tr>\n",
       "  </tbody>\n",
       "</table>\n",
       "<p>5 rows × 43 columns</p>\n",
       "</div>"
      ],
      "text/plain": [
       "                                               title  \\\n",
       "0  2020 Summer Vintage Flamingo Print  Pajamas Se...   \n",
       "1  SSHOUSE Summer Casual Sleeveless Soirée Party ...   \n",
       "2  2020 Nouvelle Arrivée Femmes Printemps et Été ...   \n",
       "3  Hot Summer Cool T-shirt pour les femmes Mode T...   \n",
       "4  Femmes Shorts d'été à lacets taille élastique ...   \n",
       "\n",
       "                                          title_orig  price  retail_price  \\\n",
       "0  2020 Summer Vintage Flamingo Print  Pajamas Se...  16.00            14   \n",
       "1   Women's Casual Summer Sleeveless Sexy Mini Dress   8.00            22   \n",
       "2  2020 New Arrival Women Spring and Summer Beach...   8.00            43   \n",
       "3  Hot Summer Cool T Shirt for Women Fashion Tops...   8.00             8   \n",
       "4  Women Summer Shorts Lace Up Elastic Waistband ...   2.72             3   \n",
       "\n",
       "  currency_buyer  units_sold  uses_ad_boosts  rating  rating_count  \\\n",
       "0            EUR         100               0    3.76            54   \n",
       "1            EUR       20000               1    3.45          6135   \n",
       "2            EUR         100               0    3.57            14   \n",
       "3            EUR        5000               1    4.03           579   \n",
       "4            EUR         100               1    3.10            20   \n",
       "\n",
       "   rating_five_count  ...  merchant_rating_count  merchant_rating  \\\n",
       "0               26.0  ...                    568         4.128521   \n",
       "1             2269.0  ...                  17752         3.899673   \n",
       "2                5.0  ...                    295         3.989831   \n",
       "3              295.0  ...                  23832         4.020435   \n",
       "4                6.0  ...                  14482         4.001588   \n",
       "\n",
       "                merchant_id  merchant_has_profile_picture  \\\n",
       "0  595097d6a26f6e070cb878d1                             0   \n",
       "1  56458aa03a698c35c9050988                             0   \n",
       "2  5d464a1ffdf7bc44ee933c65                             0   \n",
       "3  58cfdefdacb37b556efdff7c                             0   \n",
       "4  5ab3b592c3911a095ad5dadb                             0   \n",
       "\n",
       "   merchant_profile_picture                                      product_url  \\\n",
       "0                       NaN  https://www.wish.com/c/5e9ae51d43d6a96e303acdb0   \n",
       "1                       NaN  https://www.wish.com/c/58940d436a0d3d5da4e95a38   \n",
       "2                       NaN  https://www.wish.com/c/5ea10e2c617580260d55310a   \n",
       "3                       NaN  https://www.wish.com/c/5cedf17ad1d44c52c59e4aca   \n",
       "4                       NaN  https://www.wish.com/c/5ebf5819ebac372b070b0e70   \n",
       "\n",
       "                                     product_picture  \\\n",
       "0  https://contestimg.wish.com/api/webimage/5e9ae...   \n",
       "1  https://contestimg.wish.com/api/webimage/58940...   \n",
       "2  https://contestimg.wish.com/api/webimage/5ea10...   \n",
       "3  https://contestimg.wish.com/api/webimage/5cedf...   \n",
       "4  https://contestimg.wish.com/api/webimage/5ebf5...   \n",
       "\n",
       "                 product_id   theme crawl_month  \n",
       "0  5e9ae51d43d6a96e303acdb0  summer     2020-08  \n",
       "1  58940d436a0d3d5da4e95a38  summer     2020-08  \n",
       "2  5ea10e2c617580260d55310a  summer     2020-08  \n",
       "3  5cedf17ad1d44c52c59e4aca  summer     2020-08  \n",
       "4  5ebf5819ebac372b070b0e70  summer     2020-08  \n",
       "\n",
       "[5 rows x 43 columns]"
      ]
     },
     "execution_count": 3,
     "metadata": {},
     "output_type": "execute_result"
    }
   ],
   "source": [
    "df.head()"
   ]
  },
  {
   "cell_type": "code",
   "execution_count": 4,
   "metadata": {},
   "outputs": [
    {
     "data": {
      "text/html": [
       "<div>\n",
       "<style scoped>\n",
       "    .dataframe tbody tr th:only-of-type {\n",
       "        vertical-align: middle;\n",
       "    }\n",
       "\n",
       "    .dataframe tbody tr th {\n",
       "        vertical-align: top;\n",
       "    }\n",
       "\n",
       "    .dataframe thead th {\n",
       "        text-align: right;\n",
       "    }\n",
       "</style>\n",
       "<table border=\"1\" class=\"dataframe\">\n",
       "  <thead>\n",
       "    <tr style=\"text-align: right;\">\n",
       "      <th></th>\n",
       "      <th>title</th>\n",
       "      <th>title_orig</th>\n",
       "      <th>price</th>\n",
       "      <th>retail_price</th>\n",
       "      <th>units_sold</th>\n",
       "      <th>uses_ad_boosts</th>\n",
       "      <th>rating</th>\n",
       "      <th>rating_count</th>\n",
       "      <th>rating_five_count</th>\n",
       "      <th>rating_four_count</th>\n",
       "      <th>...</th>\n",
       "      <th>origin_country</th>\n",
       "      <th>merchant_title</th>\n",
       "      <th>merchant_name</th>\n",
       "      <th>merchant_info_subtitle</th>\n",
       "      <th>merchant_rating_count</th>\n",
       "      <th>merchant_rating</th>\n",
       "      <th>merchant_id</th>\n",
       "      <th>product_url</th>\n",
       "      <th>product_id</th>\n",
       "      <th>crawl_month</th>\n",
       "    </tr>\n",
       "  </thead>\n",
       "  <tbody>\n",
       "    <tr>\n",
       "      <th>0</th>\n",
       "      <td>2020 Summer Vintage Flamingo Print  Pajamas Se...</td>\n",
       "      <td>2020 Summer Vintage Flamingo Print  Pajamas Se...</td>\n",
       "      <td>16.00</td>\n",
       "      <td>14</td>\n",
       "      <td>100</td>\n",
       "      <td>0</td>\n",
       "      <td>3.76</td>\n",
       "      <td>54</td>\n",
       "      <td>26.0</td>\n",
       "      <td>8.0</td>\n",
       "      <td>...</td>\n",
       "      <td>CN</td>\n",
       "      <td>zgrdejia</td>\n",
       "      <td>zgrdejia</td>\n",
       "      <td>(568 notes)</td>\n",
       "      <td>568</td>\n",
       "      <td>4.128521</td>\n",
       "      <td>595097d6a26f6e070cb878d1</td>\n",
       "      <td>https://www.wish.com/c/5e9ae51d43d6a96e303acdb0</td>\n",
       "      <td>5e9ae51d43d6a96e303acdb0</td>\n",
       "      <td>2020-08</td>\n",
       "    </tr>\n",
       "    <tr>\n",
       "      <th>1</th>\n",
       "      <td>SSHOUSE Summer Casual Sleeveless Soirée Party ...</td>\n",
       "      <td>Women's Casual Summer Sleeveless Sexy Mini Dress</td>\n",
       "      <td>8.00</td>\n",
       "      <td>22</td>\n",
       "      <td>20000</td>\n",
       "      <td>1</td>\n",
       "      <td>3.45</td>\n",
       "      <td>6135</td>\n",
       "      <td>2269.0</td>\n",
       "      <td>1027.0</td>\n",
       "      <td>...</td>\n",
       "      <td>CN</td>\n",
       "      <td>SaraHouse</td>\n",
       "      <td>sarahouse</td>\n",
       "      <td>83 % avis positifs (17,752 notes)</td>\n",
       "      <td>17752</td>\n",
       "      <td>3.899673</td>\n",
       "      <td>56458aa03a698c35c9050988</td>\n",
       "      <td>https://www.wish.com/c/58940d436a0d3d5da4e95a38</td>\n",
       "      <td>58940d436a0d3d5da4e95a38</td>\n",
       "      <td>2020-08</td>\n",
       "    </tr>\n",
       "    <tr>\n",
       "      <th>2</th>\n",
       "      <td>2020 Nouvelle Arrivée Femmes Printemps et Été ...</td>\n",
       "      <td>2020 New Arrival Women Spring and Summer Beach...</td>\n",
       "      <td>8.00</td>\n",
       "      <td>43</td>\n",
       "      <td>100</td>\n",
       "      <td>0</td>\n",
       "      <td>3.57</td>\n",
       "      <td>14</td>\n",
       "      <td>5.0</td>\n",
       "      <td>4.0</td>\n",
       "      <td>...</td>\n",
       "      <td>CN</td>\n",
       "      <td>hxt520</td>\n",
       "      <td>hxt520</td>\n",
       "      <td>86 % avis positifs (295 notes)</td>\n",
       "      <td>295</td>\n",
       "      <td>3.989831</td>\n",
       "      <td>5d464a1ffdf7bc44ee933c65</td>\n",
       "      <td>https://www.wish.com/c/5ea10e2c617580260d55310a</td>\n",
       "      <td>5ea10e2c617580260d55310a</td>\n",
       "      <td>2020-08</td>\n",
       "    </tr>\n",
       "    <tr>\n",
       "      <th>3</th>\n",
       "      <td>Hot Summer Cool T-shirt pour les femmes Mode T...</td>\n",
       "      <td>Hot Summer Cool T Shirt for Women Fashion Tops...</td>\n",
       "      <td>8.00</td>\n",
       "      <td>8</td>\n",
       "      <td>5000</td>\n",
       "      <td>1</td>\n",
       "      <td>4.03</td>\n",
       "      <td>579</td>\n",
       "      <td>295.0</td>\n",
       "      <td>119.0</td>\n",
       "      <td>...</td>\n",
       "      <td>CN</td>\n",
       "      <td>allenfan</td>\n",
       "      <td>allenfan</td>\n",
       "      <td>(23,832 notes)</td>\n",
       "      <td>23832</td>\n",
       "      <td>4.020435</td>\n",
       "      <td>58cfdefdacb37b556efdff7c</td>\n",
       "      <td>https://www.wish.com/c/5cedf17ad1d44c52c59e4aca</td>\n",
       "      <td>5cedf17ad1d44c52c59e4aca</td>\n",
       "      <td>2020-08</td>\n",
       "    </tr>\n",
       "    <tr>\n",
       "      <th>4</th>\n",
       "      <td>Femmes Shorts d'été à lacets taille élastique ...</td>\n",
       "      <td>Women Summer Shorts Lace Up Elastic Waistband ...</td>\n",
       "      <td>2.72</td>\n",
       "      <td>3</td>\n",
       "      <td>100</td>\n",
       "      <td>1</td>\n",
       "      <td>3.10</td>\n",
       "      <td>20</td>\n",
       "      <td>6.0</td>\n",
       "      <td>4.0</td>\n",
       "      <td>...</td>\n",
       "      <td>CN</td>\n",
       "      <td>youngpeopleshop</td>\n",
       "      <td>happyhorses</td>\n",
       "      <td>85 % avis positifs (14,482 notes)</td>\n",
       "      <td>14482</td>\n",
       "      <td>4.001588</td>\n",
       "      <td>5ab3b592c3911a095ad5dadb</td>\n",
       "      <td>https://www.wish.com/c/5ebf5819ebac372b070b0e70</td>\n",
       "      <td>5ebf5819ebac372b070b0e70</td>\n",
       "      <td>2020-08</td>\n",
       "    </tr>\n",
       "    <tr>\n",
       "      <th>...</th>\n",
       "      <td>...</td>\n",
       "      <td>...</td>\n",
       "      <td>...</td>\n",
       "      <td>...</td>\n",
       "      <td>...</td>\n",
       "      <td>...</td>\n",
       "      <td>...</td>\n",
       "      <td>...</td>\n",
       "      <td>...</td>\n",
       "      <td>...</td>\n",
       "      <td>...</td>\n",
       "      <td>...</td>\n",
       "      <td>...</td>\n",
       "      <td>...</td>\n",
       "      <td>...</td>\n",
       "      <td>...</td>\n",
       "      <td>...</td>\n",
       "      <td>...</td>\n",
       "      <td>...</td>\n",
       "      <td>...</td>\n",
       "      <td>...</td>\n",
       "    </tr>\n",
       "    <tr>\n",
       "      <th>1568</th>\n",
       "      <td>Nouvelle Mode Femmes Bohême Pissenlit Imprimer...</td>\n",
       "      <td>New Fashion Women Bohemia Dandelion Print Tee ...</td>\n",
       "      <td>6.00</td>\n",
       "      <td>9</td>\n",
       "      <td>10000</td>\n",
       "      <td>1</td>\n",
       "      <td>4.08</td>\n",
       "      <td>1367</td>\n",
       "      <td>722.0</td>\n",
       "      <td>293.0</td>\n",
       "      <td>...</td>\n",
       "      <td>CN</td>\n",
       "      <td>cxuelin99126</td>\n",
       "      <td>cxuelin99126</td>\n",
       "      <td>90 % avis positifs (5,316 notes)</td>\n",
       "      <td>5316</td>\n",
       "      <td>4.224605</td>\n",
       "      <td>5b507899ab577736508a0782</td>\n",
       "      <td>https://www.wish.com/c/5d5fadc99febd9356cbc52ee</td>\n",
       "      <td>5d5fadc99febd9356cbc52ee</td>\n",
       "      <td>2020-08</td>\n",
       "    </tr>\n",
       "    <tr>\n",
       "      <th>1569</th>\n",
       "      <td>10 couleurs femmes shorts d'été lacent ceintur...</td>\n",
       "      <td>10 Color Women Summer Shorts Lace Up Elastic W...</td>\n",
       "      <td>2.00</td>\n",
       "      <td>56</td>\n",
       "      <td>100</td>\n",
       "      <td>1</td>\n",
       "      <td>3.07</td>\n",
       "      <td>28</td>\n",
       "      <td>11.0</td>\n",
       "      <td>3.0</td>\n",
       "      <td>...</td>\n",
       "      <td>CN</td>\n",
       "      <td>sell best quality goods</td>\n",
       "      <td>sellbestqualitygoods</td>\n",
       "      <td>(4,435 notes)</td>\n",
       "      <td>4435</td>\n",
       "      <td>3.696054</td>\n",
       "      <td>54d83b6b6b8a771e478558de</td>\n",
       "      <td>https://www.wish.com/c/5eccd22b4497b86fd48f16b4</td>\n",
       "      <td>5eccd22b4497b86fd48f16b4</td>\n",
       "      <td>2020-08</td>\n",
       "    </tr>\n",
       "    <tr>\n",
       "      <th>1570</th>\n",
       "      <td>Nouveautés Hommes Siwmwear Beach-Shorts Hommes...</td>\n",
       "      <td>New Men Siwmwear Beach-Shorts Men Summer Quick...</td>\n",
       "      <td>5.00</td>\n",
       "      <td>19</td>\n",
       "      <td>100</td>\n",
       "      <td>0</td>\n",
       "      <td>3.71</td>\n",
       "      <td>59</td>\n",
       "      <td>24.0</td>\n",
       "      <td>15.0</td>\n",
       "      <td>...</td>\n",
       "      <td>CN</td>\n",
       "      <td>shixueying</td>\n",
       "      <td>shixueying</td>\n",
       "      <td>86 % avis positifs (210 notes)</td>\n",
       "      <td>210</td>\n",
       "      <td>3.961905</td>\n",
       "      <td>5b42da1bf64320209fc8da69</td>\n",
       "      <td>https://www.wish.com/c/5e74be96034d613d42b52dfe</td>\n",
       "      <td>5e74be96034d613d42b52dfe</td>\n",
       "      <td>2020-08</td>\n",
       "    </tr>\n",
       "    <tr>\n",
       "      <th>1571</th>\n",
       "      <td>Mode femmes d'été sans manches robes col en V ...</td>\n",
       "      <td>Fashion Women Summer Sleeveless Dresses V Neck...</td>\n",
       "      <td>13.00</td>\n",
       "      <td>11</td>\n",
       "      <td>100</td>\n",
       "      <td>0</td>\n",
       "      <td>2.50</td>\n",
       "      <td>2</td>\n",
       "      <td>0.0</td>\n",
       "      <td>1.0</td>\n",
       "      <td>...</td>\n",
       "      <td>CN</td>\n",
       "      <td>modai</td>\n",
       "      <td>modai</td>\n",
       "      <td>77 % avis positifs (31 notes)</td>\n",
       "      <td>31</td>\n",
       "      <td>3.774194</td>\n",
       "      <td>5d56b32c40defd78043d5af9</td>\n",
       "      <td>https://www.wish.com/c/5eda07ab0e295c2097c36590</td>\n",
       "      <td>5eda07ab0e295c2097c36590</td>\n",
       "      <td>2020-08</td>\n",
       "    </tr>\n",
       "    <tr>\n",
       "      <th>1572</th>\n",
       "      <td>Pantalon de yoga pour femmes à la mode Slim Fi...</td>\n",
       "      <td>Fashion Women Yoga Pants Slim Fit Fitness Runn...</td>\n",
       "      <td>7.00</td>\n",
       "      <td>6</td>\n",
       "      <td>100</td>\n",
       "      <td>1</td>\n",
       "      <td>4.07</td>\n",
       "      <td>14</td>\n",
       "      <td>8.0</td>\n",
       "      <td>3.0</td>\n",
       "      <td>...</td>\n",
       "      <td>CN</td>\n",
       "      <td>AISHOPPINGMALL</td>\n",
       "      <td>aishoppingmall</td>\n",
       "      <td>90 % avis positifs (7,023 notes)</td>\n",
       "      <td>7023</td>\n",
       "      <td>4.235939</td>\n",
       "      <td>5a409cf87b584e7951b2e25f</td>\n",
       "      <td>https://www.wish.com/c/5e857321f53c3d2d8f25e7ed</td>\n",
       "      <td>5e857321f53c3d2d8f25e7ed</td>\n",
       "      <td>2020-08</td>\n",
       "    </tr>\n",
       "  </tbody>\n",
       "</table>\n",
       "<p>1573 rows × 38 columns</p>\n",
       "</div>"
      ],
      "text/plain": [
       "                                                  title  \\\n",
       "0     2020 Summer Vintage Flamingo Print  Pajamas Se...   \n",
       "1     SSHOUSE Summer Casual Sleeveless Soirée Party ...   \n",
       "2     2020 Nouvelle Arrivée Femmes Printemps et Été ...   \n",
       "3     Hot Summer Cool T-shirt pour les femmes Mode T...   \n",
       "4     Femmes Shorts d'été à lacets taille élastique ...   \n",
       "...                                                 ...   \n",
       "1568  Nouvelle Mode Femmes Bohême Pissenlit Imprimer...   \n",
       "1569  10 couleurs femmes shorts d'été lacent ceintur...   \n",
       "1570  Nouveautés Hommes Siwmwear Beach-Shorts Hommes...   \n",
       "1571  Mode femmes d'été sans manches robes col en V ...   \n",
       "1572  Pantalon de yoga pour femmes à la mode Slim Fi...   \n",
       "\n",
       "                                             title_orig  price  retail_price  \\\n",
       "0     2020 Summer Vintage Flamingo Print  Pajamas Se...  16.00            14   \n",
       "1      Women's Casual Summer Sleeveless Sexy Mini Dress   8.00            22   \n",
       "2     2020 New Arrival Women Spring and Summer Beach...   8.00            43   \n",
       "3     Hot Summer Cool T Shirt for Women Fashion Tops...   8.00             8   \n",
       "4     Women Summer Shorts Lace Up Elastic Waistband ...   2.72             3   \n",
       "...                                                 ...    ...           ...   \n",
       "1568  New Fashion Women Bohemia Dandelion Print Tee ...   6.00             9   \n",
       "1569  10 Color Women Summer Shorts Lace Up Elastic W...   2.00            56   \n",
       "1570  New Men Siwmwear Beach-Shorts Men Summer Quick...   5.00            19   \n",
       "1571  Fashion Women Summer Sleeveless Dresses V Neck...  13.00            11   \n",
       "1572  Fashion Women Yoga Pants Slim Fit Fitness Runn...   7.00             6   \n",
       "\n",
       "      units_sold  uses_ad_boosts  rating  rating_count  rating_five_count  \\\n",
       "0            100               0    3.76            54               26.0   \n",
       "1          20000               1    3.45          6135             2269.0   \n",
       "2            100               0    3.57            14                5.0   \n",
       "3           5000               1    4.03           579              295.0   \n",
       "4            100               1    3.10            20                6.0   \n",
       "...          ...             ...     ...           ...                ...   \n",
       "1568       10000               1    4.08          1367              722.0   \n",
       "1569         100               1    3.07            28               11.0   \n",
       "1570         100               0    3.71            59               24.0   \n",
       "1571         100               0    2.50             2                0.0   \n",
       "1572         100               1    4.07            14                8.0   \n",
       "\n",
       "      rating_four_count  ...  origin_country           merchant_title  \\\n",
       "0                   8.0  ...              CN                 zgrdejia   \n",
       "1                1027.0  ...              CN                SaraHouse   \n",
       "2                   4.0  ...              CN                   hxt520   \n",
       "3                 119.0  ...              CN                 allenfan   \n",
       "4                   4.0  ...              CN          youngpeopleshop   \n",
       "...                 ...  ...             ...                      ...   \n",
       "1568              293.0  ...              CN             cxuelin99126   \n",
       "1569                3.0  ...              CN  sell best quality goods   \n",
       "1570               15.0  ...              CN               shixueying   \n",
       "1571                1.0  ...              CN                    modai   \n",
       "1572                3.0  ...              CN           AISHOPPINGMALL   \n",
       "\n",
       "             merchant_name             merchant_info_subtitle  \\\n",
       "0                 zgrdejia                        (568 notes)   \n",
       "1                sarahouse  83 % avis positifs (17,752 notes)   \n",
       "2                   hxt520     86 % avis positifs (295 notes)   \n",
       "3                 allenfan                     (23,832 notes)   \n",
       "4              happyhorses  85 % avis positifs (14,482 notes)   \n",
       "...                    ...                                ...   \n",
       "1568          cxuelin99126   90 % avis positifs (5,316 notes)   \n",
       "1569  sellbestqualitygoods                      (4,435 notes)   \n",
       "1570            shixueying     86 % avis positifs (210 notes)   \n",
       "1571                 modai      77 % avis positifs (31 notes)   \n",
       "1572        aishoppingmall   90 % avis positifs (7,023 notes)   \n",
       "\n",
       "      merchant_rating_count  merchant_rating               merchant_id  \\\n",
       "0                       568         4.128521  595097d6a26f6e070cb878d1   \n",
       "1                     17752         3.899673  56458aa03a698c35c9050988   \n",
       "2                       295         3.989831  5d464a1ffdf7bc44ee933c65   \n",
       "3                     23832         4.020435  58cfdefdacb37b556efdff7c   \n",
       "4                     14482         4.001588  5ab3b592c3911a095ad5dadb   \n",
       "...                     ...              ...                       ...   \n",
       "1568                   5316         4.224605  5b507899ab577736508a0782   \n",
       "1569                   4435         3.696054  54d83b6b6b8a771e478558de   \n",
       "1570                    210         3.961905  5b42da1bf64320209fc8da69   \n",
       "1571                     31         3.774194  5d56b32c40defd78043d5af9   \n",
       "1572                   7023         4.235939  5a409cf87b584e7951b2e25f   \n",
       "\n",
       "                                          product_url  \\\n",
       "0     https://www.wish.com/c/5e9ae51d43d6a96e303acdb0   \n",
       "1     https://www.wish.com/c/58940d436a0d3d5da4e95a38   \n",
       "2     https://www.wish.com/c/5ea10e2c617580260d55310a   \n",
       "3     https://www.wish.com/c/5cedf17ad1d44c52c59e4aca   \n",
       "4     https://www.wish.com/c/5ebf5819ebac372b070b0e70   \n",
       "...                                               ...   \n",
       "1568  https://www.wish.com/c/5d5fadc99febd9356cbc52ee   \n",
       "1569  https://www.wish.com/c/5eccd22b4497b86fd48f16b4   \n",
       "1570  https://www.wish.com/c/5e74be96034d613d42b52dfe   \n",
       "1571  https://www.wish.com/c/5eda07ab0e295c2097c36590   \n",
       "1572  https://www.wish.com/c/5e857321f53c3d2d8f25e7ed   \n",
       "\n",
       "                    product_id crawl_month  \n",
       "0     5e9ae51d43d6a96e303acdb0     2020-08  \n",
       "1     58940d436a0d3d5da4e95a38     2020-08  \n",
       "2     5ea10e2c617580260d55310a     2020-08  \n",
       "3     5cedf17ad1d44c52c59e4aca     2020-08  \n",
       "4     5ebf5819ebac372b070b0e70     2020-08  \n",
       "...                        ...         ...  \n",
       "1568  5d5fadc99febd9356cbc52ee     2020-08  \n",
       "1569  5eccd22b4497b86fd48f16b4     2020-08  \n",
       "1570  5e74be96034d613d42b52dfe     2020-08  \n",
       "1571  5eda07ab0e295c2097c36590     2020-08  \n",
       "1572  5e857321f53c3d2d8f25e7ed     2020-08  \n",
       "\n",
       "[1573 rows x 38 columns]"
      ]
     },
     "execution_count": 4,
     "metadata": {},
     "output_type": "execute_result"
    }
   ],
   "source": [
    "df.drop(columns = ['currency_buyer', 'merchant_has_profile_picture', 'merchant_profile_picture', 'product_picture', 'theme'])"
   ]
  },
  {
   "cell_type": "code",
   "execution_count": 5,
   "metadata": {},
   "outputs": [],
   "source": [
    "#I will first test a hypothesis based on whether or not ads run have a significant impact on product sales numbers. My null hypothesis is that there is no significant difference in the sales numbers between the products that were advertised versus those that weren't. My alternative hypothesis is that there is a significant difference in the sales numbers between the products that were advertised versus those that were not. I will set our alpha at 0.05.\n",
    "ad = df[df['uses_ad_boosts'] == 1]\n",
    "no_ad = df[df['uses_ad_boosts'] == 0]"
   ]
  },
  {
   "cell_type": "code",
   "execution_count": 46,
   "metadata": {},
   "outputs": [
    {
     "data": {
      "image/png": "[encoded data removed]",
      "text/plain": [
       "<Figure size 432x288 with 1 Axes>"
      ]
     },
     "metadata": {
      "needs_background": "light"
     },
     "output_type": "display_data"
    }
   ],
   "source": [
    "plt.hist(ad['units_sold'], alpha = 0.5)\n",
    "plt.hist(no_ad['units_sold'], alpha = 0.5)\n",
    "plt.show()"
   ]
  },
  {
   "cell_type": "code",
   "execution_count": 8,
   "metadata": {},
   "outputs": [
    {
     "data": {
      "text/plain": [
       "<AxesSubplot:title={'center':'units_sold'}, xlabel='uses_ad_boosts'>"
      ]
     },
     "execution_count": 8,
     "metadata": {},
     "output_type": "execute_result"
    },
    {
     "data": {
      "image/png": "[encoded data removed]",
      "text/plain": [
       "<Figure size 432x288 with 1 Axes>"
      ]
     },
     "metadata": {
      "needs_background": "light"
     },
     "output_type": "display_data"
    }
   ],
   "source": [
    "df.boxplot('units_sold', by = 'uses_ad_boosts')"
   ]
  },
  {
   "cell_type": "code",
   "execution_count": 9,
   "metadata": {},
   "outputs": [
    {
     "name": "stdout",
     "output_type": "stream",
     "text": [
      "DescribeResult(nobs=681, minmax=(10, 100000), mean=4167.136563876652, variance=84321945.17102873, skewness=6.100031109185601, kurtosis=53.74297553018778)\n",
      "DescribeResult(nobs=892, minmax=(1, 100000), mean=4470.218609865471, variance=90062932.63341312, skewness=5.284494360844906, kurtosis=39.81938818872228)\n"
     ]
    }
   ],
   "source": [
    "print(stats.describe(ad['units_sold']))\n",
    "print(stats.describe(no_ad['units_sold']))"
   ]
  },
  {
   "cell_type": "code",
   "execution_count": 10,
   "metadata": {},
   "outputs": [
    {
     "data": {
      "text/plain": [
       "KruskalResult(statistic=0.08201738240019896, pvalue=0.7745819060683752)"
      ]
     },
     "execution_count": 10,
     "metadata": {},
     "output_type": "execute_result"
    }
   ],
   "source": [
    "#Based on the histograms, boxplots, and statistical descriptions of the data sets, it is difficult to see a very significant difference in the sales numbers. However, I do see that the distributions are clearly not normal given that the skewness and kurtosis values > |3|. I will use the Kruskal-Wallis test to analyze the results.\n",
    "stats.kruskal(ad['units_sold'], no_ad['units_sold'])"
   ]
  },
  {
   "cell_type": "code",
   "execution_count": 50,
   "metadata": {},
   "outputs": [
    {
     "name": "stdout",
     "output_type": "stream",
     "text": [
      "The difference in means at the 95% confidence interval (two-tail) is between -626.189867583291 and 1232.353959560929.\n"
     ]
    }
   ],
   "source": [
    "def get_95_ci(group_1, group_2):\n",
    "    group_1_n = group_1.shape[0]\n",
    "    group_2_n = group_2.shape[0]\n",
    "    group_1_mean = group_1.mean()\n",
    "    group_2_mean = group_2.mean()\n",
    "    group_1_var = group_1.var()\n",
    "    group_2_var = group_2.var()\n",
    "    mean_diff = group_2_mean - group_1_mean\n",
    "    std_err_diff = math.sqrt((group_1_var/group_1_n)+(group_2_var/group_2_n))\n",
    "    margin_of_err = 1.96 * std_err_diff\n",
    "    ci_lower = mean_diff - margin_of_err\n",
    "    ci_upper = mean_diff + margin_of_err\n",
    "    return(\"The difference in means at the 95% confidence interval (two-tail) is between \"+str(ci_lower)+\" and \"+str(ci_upper)+\".\")\n",
    "\n",
    "print(get_95_ci(ad['units_sold'], no_ad['units_sold']))"
   ]
  },
  {
   "cell_type": "code",
   "execution_count": 11,
   "metadata": {},
   "outputs": [],
   "source": [
    "#Given that the statistic of 0.08 < 1.96 and p-value of 0.77 > 0.05, I fail to reject the null that there is not a significant difference between the sales numbers of the products that received advertisement and the ones that did not. The 95% confidence interval suggests that the difference in sales numbers between products that received advertisement versus those that did not is between -1232 and 626."
   ]
  },
  {
   "cell_type": "code",
   "execution_count": 12,
   "metadata": {},
   "outputs": [],
   "source": [
    "#The second hypothesis I will test is whether products with a greater number of ratings have higher overall ratings than those with fewer ratings. My null hypothesis is that the ratings will not be significantly different regardless of the number of ratings. My alternative hypothesis is that the ratings of products with fewer ratings will be significantly different from the ratings of products with a greater number of ratings. I divided the rating count into two groups with the higher rating count group, g_rating including the rating count mean. I will set alpha at 0.05.\n",
    "g_rating = df[df['rating_count'] >= df['rating_count'].mean()]\n",
    "f_rating = df[df['rating_count'] < df['rating_count'].mean()]"
   ]
  },
  {
   "cell_type": "code",
   "execution_count": 45,
   "metadata": {},
   "outputs": [
    {
     "data": {
      "image/png": "[encoded data removed]",
      "text/plain": [
       "<Figure size 432x288 with 1 Axes>"
      ]
     },
     "metadata": {
      "needs_background": "light"
     },
     "output_type": "display_data"
    }
   ],
   "source": [
    "plt.hist(g_rating['rating'], alpha = 0.5)\n",
    "plt.hist(f_rating['rating'], alpha = 0.5)\n",
    "plt.show()"
   ]
  },
  {
   "cell_type": "code",
   "execution_count": 15,
   "metadata": {},
   "outputs": [],
   "source": [
    "df['num_rating'] = np.where(df['rating_count'] >= df['rating_count'].mean(), 'Greater', 'Fewer')"
   ]
  },
  {
   "cell_type": "code",
   "execution_count": 16,
   "metadata": {},
   "outputs": [
    {
     "data": {
      "text/plain": [
       "Fewer      1193\n",
       "Greater     380\n",
       "Name: num_rating, dtype: int64"
      ]
     },
     "execution_count": 16,
     "metadata": {},
     "output_type": "execute_result"
    }
   ],
   "source": [
    "df['num_rating'].value_counts()"
   ]
  },
  {
   "cell_type": "code",
   "execution_count": 17,
   "metadata": {},
   "outputs": [
    {
     "data": {
      "text/plain": [
       "<AxesSubplot:title={'center':'rating'}, xlabel='num_rating'>"
      ]
     },
     "execution_count": 17,
     "metadata": {},
     "output_type": "execute_result"
    },
    {
     "data": {
      "image/png": "[encoded data removed]",
      "text/plain": [
       "<Figure size 432x288 with 1 Axes>"
      ]
     },
     "metadata": {
      "needs_background": "light"
     },
     "output_type": "display_data"
    }
   ],
   "source": [
    "df.boxplot('rating', by = 'num_rating')"
   ]
  },
  {
   "cell_type": "code",
   "execution_count": 18,
   "metadata": {},
   "outputs": [
    {
     "name": "stdout",
     "output_type": "stream",
     "text": [
      "DescribeResult(nobs=380, minmax=(2.93, 4.48), mean=3.8823947368421052, variance=0.09048369601444244, skewness=-0.45055487252910187, kurtosis=-0.15948685361346593)\n",
      "DescribeResult(nobs=1193, minmax=(1.0, 5.0), mean=3.8013076278290017, variance=0.31992496652733793, skewness=-0.4334478027306236, kurtosis=2.066578935676346)\n"
     ]
    }
   ],
   "source": [
    "#When looking at the histograms and boxplots, there appears to be a slightly higher average rating in the group with a higher number of ratings. The distributions also appear to be more normal.\n",
    "print(stats.describe(g_rating['rating']))\n",
    "print(stats.describe(f_rating['rating']))"
   ]
  },
  {
   "cell_type": "code",
   "execution_count": 19,
   "metadata": {},
   "outputs": [
    {
     "name": "stdout",
     "output_type": "stream",
     "text": [
      "ShapiroResult(statistic=0.9819887280464172, pvalue=0.00011136983812320977)\n",
      "ShapiroResult(statistic=0.9626278281211853, pvalue=6.039293297852938e-17)\n"
     ]
    }
   ],
   "source": [
    "print(stats.shapiro(g_rating['rating']))\n",
    "print(stats.shapiro(f_rating['rating']))"
   ]
  },
  {
   "cell_type": "code",
   "execution_count": 20,
   "metadata": {},
   "outputs": [
    {
     "data": {
      "text/plain": [
       "Ttest_indResult(statistic=2.6762511850428097, pvalue=0.007522485409185718)"
      ]
     },
     "execution_count": 20,
     "metadata": {},
     "output_type": "execute_result"
    }
   ],
   "source": [
    "#Given that the skewness and kurtosis values are within range of /3/, I can use the t-test for independent samples. I will also use the Kruskal-Wallis test to confirm the results.\n",
    "stats.ttest_ind(g_rating['rating'], f_rating['rating'])"
   ]
  },
  {
   "cell_type": "code",
   "execution_count": 21,
   "metadata": {},
   "outputs": [
    {
     "data": {
      "text/plain": [
       "KruskalResult(statistic=10.925730946908297, pvalue=0.0009483777787765655)"
      ]
     },
     "execution_count": 21,
     "metadata": {},
     "output_type": "execute_result"
    }
   ],
   "source": [
    "stats.kruskal(g_rating['rating'], f_rating['rating'])"
   ]
  },
  {
   "cell_type": "code",
   "execution_count": 49,
   "metadata": {},
   "outputs": [
    {
     "name": "stdout",
     "output_type": "stream",
     "text": [
      "The difference in means at the 95% confidence interval (two-tail) is between -0.12518856567283262 and -0.03698565235337806.\n"
     ]
    }
   ],
   "source": [
    "print(get_95_ci(g_rating['rating'], f_rating['rating']))"
   ]
  },
  {
   "cell_type": "code",
   "execution_count": 22,
   "metadata": {},
   "outputs": [],
   "source": [
    "#Given that in both of the tests, the statistics are greater than 1.96 and the p-values are smaller than 0.05, I will reject the null hypothesis that ratings will not be significantly different regardless of the number of ratings. The 95% confidence interval suggests that the difference in average ratings between products with a greater number of ratings and those with fewer ratings is between 0.04 and 0.13."
   ]
  },
  {
   "cell_type": "code",
   "execution_count": 23,
   "metadata": {},
   "outputs": [],
   "source": [
    "#For our third hypothesis, I will be testing whether products with higher ratings have higher sales numbers. Our null is that there is no significant difference between the sales numbers of products with higher and lower ratings. Our alternative hypothesis is that the products with higher ratings have different sales numbers from the products with lower ratings. We divide the ratings into two groups with the higher rating group including the rating mean. We will set alpha at 0.05.\n",
    "h_rating = df[df['rating'] >= df['rating'].mean()]\n",
    "l_rating = df[df['rating'] < df['rating'].mean()]"
   ]
  },
  {
   "cell_type": "code",
   "execution_count": 48,
   "metadata": {},
   "outputs": [
    {
     "data": {
      "image/png": "[encoded data removed]",
      "text/plain": [
       "<Figure size 432x288 with 1 Axes>"
      ]
     },
     "metadata": {
      "needs_background": "light"
     },
     "output_type": "display_data"
    }
   ],
   "source": [
    "plt.hist(h_rating['units_sold'], alpha = 0.5)\n",
    "plt.hist(l_rating['units_sold'], alpha = 0.5)\n",
    "plt.show()"
   ]
  },
  {
   "cell_type": "code",
   "execution_count": 26,
   "metadata": {},
   "outputs": [],
   "source": [
    "df['amt_rating'] = np.where(df['rating'] >= df['rating'].mean(), 'Higher', 'Lower')"
   ]
  },
  {
   "cell_type": "code",
   "execution_count": 27,
   "metadata": {},
   "outputs": [
    {
     "data": {
      "text/plain": [
       "Higher    816\n",
       "Lower     757\n",
       "Name: amt_rating, dtype: int64"
      ]
     },
     "execution_count": 27,
     "metadata": {},
     "output_type": "execute_result"
    }
   ],
   "source": [
    "df['amt_rating'].value_counts()"
   ]
  },
  {
   "cell_type": "code",
   "execution_count": 28,
   "metadata": {},
   "outputs": [
    {
     "data": {
      "text/plain": [
       "<AxesSubplot:title={'center':'units_sold'}, xlabel='amt_rating'>"
      ]
     },
     "execution_count": 28,
     "metadata": {},
     "output_type": "execute_result"
    },
    {
     "data": {
      "image/png": "[encoded data removed]",
      "text/plain": [
       "<Figure size 432x288 with 1 Axes>"
      ]
     },
     "metadata": {
      "needs_background": "light"
     },
     "output_type": "display_data"
    }
   ],
   "source": [
    "df.boxplot('units_sold', by = 'amt_rating')"
   ]
  },
  {
   "cell_type": "code",
   "execution_count": 29,
   "metadata": {},
   "outputs": [
    {
     "name": "stdout",
     "output_type": "stream",
     "text": [
      "DescribeResult(nobs=816, minmax=(1, 100000), mean=4900.542892156863, variance=95926171.25705372, skewness=5.033291240464076, kurtosis=36.835218201968814)\n",
      "DescribeResult(nobs=757, minmax=(2, 100000), mean=3733.701453104359, variance=77917957.02715395, skewness=6.460879504396806, kurtosis=58.91573489845412)\n"
     ]
    }
   ],
   "source": [
    "#Based on the histograms and boxplots, it is difficult to tell how different the distributions are. The distributions also appear to be very skewed to the right.\n",
    "print(stats.describe(h_rating['units_sold']))\n",
    "print(stats.describe(l_rating['units_sold']))"
   ]
  },
  {
   "cell_type": "code",
   "execution_count": 30,
   "metadata": {},
   "outputs": [
    {
     "data": {
      "text/plain": [
       "KruskalResult(statistic=5.235684940491926, pvalue=0.022128093806169875)"
      ]
     },
     "execution_count": 30,
     "metadata": {},
     "output_type": "execute_result"
    }
   ],
   "source": [
    "#Given that the skewness and kurtosis of the groups > |3|, I will use the Kruskal-Wallis test.\n",
    "stats.kruskal(h_rating['units_sold'], l_rating['units_sold'])"
   ]
  },
  {
   "cell_type": "code",
   "execution_count": 51,
   "metadata": {},
   "outputs": [
    {
     "name": "stdout",
     "output_type": "stream",
     "text": [
      "The difference in means at the 95% confidence interval (two-tail) is between -2087.178869678201 and -246.5040084268063.\n"
     ]
    }
   ],
   "source": [
    "print(get_95_ci(h_rating['units_sold'], l_rating['units_sold']))"
   ]
  },
  {
   "cell_type": "code",
   "execution_count": 31,
   "metadata": {},
   "outputs": [],
   "source": [
    "#Given that the statistic of 5.24 > 1.96 and the p-value of 0.02 < 0.05, I will reject the null that there is no significant difference between the sales numbers of products with higher and lower ratings. The 95% confidence interval suggests that the difference in the average number of units sold between products with higher and lower ratings is between 247 and 2087."
   ]
  },
  {
   "cell_type": "code",
   "execution_count": 33,
   "metadata": {},
   "outputs": [],
   "source": [
    "#Finally, the last hypothesis I will test is whether products with higher merchant ratings have higher sales numbers. My null is that there is no significant difference between the sales numbers of products with higher and lower merchant ratings. My alternative hypothesis is that there is a significant difference between the sales numbers. I divided the merchant ratings into two groups with the higher rating group including the rating mean. I will set alpha at 0.05.\n",
    "hm_rating = df[df['merchant_rating'] >= df['merchant_rating'].mean()]\n",
    "lm_rating = df[df['merchant_rating'] < df['merchant_rating'].mean()]"
   ]
  },
  {
   "cell_type": "code",
   "execution_count": 52,
   "metadata": {},
   "outputs": [
    {
     "data": {
      "image/png": "[encoded data removed]",
      "text/plain": [
       "<Figure size 432x288 with 1 Axes>"
      ]
     },
     "metadata": {
      "needs_background": "light"
     },
     "output_type": "display_data"
    }
   ],
   "source": [
    "plt.hist(hm_rating['units_sold'], alpha = 0.5)\n",
    "plt.hist(lm_rating['units_sold'], alpha = 0.5)\n",
    "plt.show()"
   ]
  },
  {
   "cell_type": "code",
   "execution_count": 36,
   "metadata": {},
   "outputs": [],
   "source": [
    "df['amt_mrating'] = np.where(df['merchant_rating'] >= df['merchant_rating'].mean(), 'Higher', 'Lower')"
   ]
  },
  {
   "cell_type": "code",
   "execution_count": 37,
   "metadata": {},
   "outputs": [
    {
     "data": {
      "text/plain": [
       "Higher    823\n",
       "Lower     750\n",
       "Name: amt_mrating, dtype: int64"
      ]
     },
     "execution_count": 37,
     "metadata": {},
     "output_type": "execute_result"
    }
   ],
   "source": [
    "df['amt_mrating'].value_counts()"
   ]
  },
  {
   "cell_type": "code",
   "execution_count": 38,
   "metadata": {},
   "outputs": [
    {
     "data": {
      "text/plain": [
       "<AxesSubplot:title={'center':'units_sold'}, xlabel='amt_mrating'>"
      ]
     },
     "execution_count": 38,
     "metadata": {},
     "output_type": "execute_result"
    },
    {
     "data": {
      "image/png": "[encoded data removed]",
      "text/plain": [
       "<Figure size 432x288 with 1 Axes>"
      ]
     },
     "metadata": {
      "needs_background": "light"
     },
     "output_type": "display_data"
    }
   ],
   "source": [
    "df.boxplot('units_sold', by = 'amt_mrating')"
   ]
  },
  {
   "cell_type": "code",
   "execution_count": 39,
   "metadata": {},
   "outputs": [
    {
     "name": "stdout",
     "output_type": "stream",
     "text": [
      "DescribeResult(nobs=823, minmax=(2, 100000), mean=5645.437424058323, variance=116914386.51402353, skewness=4.654381747582054, kurtosis=30.747792601954785)\n",
      "DescribeResult(nobs=750, minmax=(1, 100000), mean=2905.4133333333334, variance=51496377.16137072, skewness=7.916080239286076, kurtosis=92.83109990010762)\n"
     ]
    }
   ],
   "source": [
    "#Based on the histograms and boxplots, the group with higher merchant ratings has a higher concentration around the mean while the group with lower merchant ratings has more of an outlier spread. The distributions also appear to be very skewed to the right.\n",
    "print(stats.describe(hm_rating['units_sold']))\n",
    "print(stats.describe(lm_rating['units_sold']))"
   ]
  },
  {
   "cell_type": "code",
   "execution_count": 40,
   "metadata": {},
   "outputs": [
    {
     "data": {
      "text/plain": [
       "KruskalResult(statistic=58.39507246257622, pvalue=2.1442739526010287e-14)"
      ]
     },
     "execution_count": 40,
     "metadata": {},
     "output_type": "execute_result"
    }
   ],
   "source": [
    "#Given that the skewness and kurtosis of the groups > |3|, I will use the Kruskal-Wallis test.\n",
    "stats.kruskal(hm_rating['units_sold'], lm_rating['units_sold'])"
   ]
  },
  {
   "cell_type": "code",
   "execution_count": 54,
   "metadata": {},
   "outputs": [
    {
     "name": "stdout",
     "output_type": "stream",
     "text": [
      "The difference in means at the 95% confidence interval (two-tail) is between -3639.7486978185148 and -1840.2994836314642.\n"
     ]
    }
   ],
   "source": [
    "print(get_95_ci(hm_rating['units_sold'], lm_rating['units_sold']))"
   ]
  },
  {
   "cell_type": "code",
   "execution_count": 53,
   "metadata": {},
   "outputs": [],
   "source": [
    "#Given that the statistic of 58.40 > 1.96 and the p-value of 2.14*10^(-14) < 0.05, I will reject the null that there is no significant difference between the sales numbers of products with higher and lower merchant ratings. The 95% confidence interval suggests that the difference in the average sales numbers for the products with higher and lower merchant ratings is between 1840 and 3640."
   ]
  },
  {
   "cell_type": "code",
   "execution_count": null,
   "metadata": {},
   "outputs": [],
   "source": [
    "#Before everything is wrapped up, I would like to say a couple of comments about the data. First, I was expecting there to be a significant difference between the sales numbers of the products that received advertising versus those that did not. A possible reason why this was not the case may be because some products are bought more frequently than others to the extent that advertising did not substantially increase the sales numbers of the less popular products enough. I do not know enough about apparel to test this. I would also like to see what kinds of advertising were used to understand it better. I would have liked to test whether the discounted price made a difference in the sales number, but the original sales numbers for the products are not available. To get a more accurate picture of the sales numbers by product ratings, I would need a breakdown of the sales numbers associated with each product rating, which the data does not include."
   ]
  }
 ],
 "metadata": {
  "kernelspec": {
   "display_name": "Python 3",
   "language": "python",
   "name": "python3"
  },
  "language_info": {
   "codemirror_mode": {
    "name": "ipython",
    "version": 3
   },
   "file_extension": ".py",
   "mimetype": "text/x-python",
   "name": "python",
   "nbconvert_exporter": "python",
   "pygments_lexer": "ipython3",
   "version": "3.8.5"
  }
 },
 "nbformat": 4,
 "nbformat_minor": 4
}
